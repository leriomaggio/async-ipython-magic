{
 "cells": [
  {
   "cell_type": "code",
   "execution_count": 1,
   "metadata": {
    "collapsed": false
   },
   "outputs": [
    {
     "name": "stdout",
     "output_type": "stream",
     "text": [
      "Running Server Loop\n",
      "Process Started with PID  50542\n"
     ]
    }
   ],
   "source": [
    "%async_start_server"
   ]
  },
  {
   "cell_type": "markdown",
   "metadata": {},
   "source": [
    "To verify that the server is **actually** running, go to [http://127.0.0.1:5678/ping](http://127.0.0.1:5678/ping).\n",
    "\n",
    "This is just a ping test"
   ]
  },
  {
   "cell_type": "markdown",
   "metadata": {},
   "source": [
    "## Very first run"
   ]
  },
  {
   "cell_type": "code",
   "execution_count": 2,
   "metadata": {
    "collapsed": false
   },
   "outputs": [
    {
     "data": {
      "text/plain": [
       "10"
      ]
     },
     "execution_count": 2,
     "metadata": {},
     "output_type": "execute_result"
    }
   ],
   "source": [
    "N = 10\n",
    "N"
   ]
  },
  {
   "cell_type": "code",
   "execution_count": 3,
   "metadata": {
    "collapsed": false
   },
   "outputs": [],
   "source": [
    "s = 5"
   ]
  },
  {
   "cell_type": "code",
   "execution_count": 4,
   "metadata": {
    "collapsed": false
   },
   "outputs": [
    {
     "data": {
      "text/plain": [
       "5"
      ]
     },
     "execution_count": 4,
     "metadata": {},
     "output_type": "execute_result"
    }
   ],
   "source": [
    "s"
   ]
  },
  {
   "cell_type": "code",
   "execution_count": 5,
   "metadata": {
    "collapsed": true
   },
   "outputs": [],
   "source": [
    "l = 0"
   ]
  },
  {
   "cell_type": "markdown",
   "metadata": {},
   "source": [
    "#### Update the value of a variable, asynchronously"
   ]
  },
  {
   "cell_type": "code",
   "execution_count": 6,
   "metadata": {
    "collapsed": false
   },
   "outputs": [
    {
     "data": {
      "text/html": [
       "\n",
       "<pre class=2878ff8b-9059-4fad-b6bc-b11749338635-waiting></pre>\n",
       "<pre class=\"2878ff8b-9059-4fad-b6bc-b11749338635-output\" style=\"display: none\"></pre>\n",
       "\n",
       "\n",
       "<script type=\"text/javascript\">\n",
       "\n",
       "function setCookie(cname, cvalue, exdays) {\n",
       "    cvalue = cvalue.replace(new RegExp(\"\\n\", \"gm\"), \"----\");\n",
       "    var d = new Date();\n",
       "    d.setTime(d.getTime() + (exdays*24*60*60*1000));\n",
       "    var expires = \"expires=\" + d.toGMTString();\n",
       "    document.cookie = cname+\"=\"+cvalue+\"; \"+expires;\n",
       "}\n",
       "\n",
       "function getCookie(cname) {\n",
       "    var name = cname + \"=\";\n",
       "    var ca = document.cookie.split(';');\n",
       "    for(var i = 0; i < ca.length; i++) {\n",
       "        var c = ca[i];\n",
       "        while (c.charAt(0)==' ') c = c.substring(1);\n",
       "        if (c.indexOf(name) == 0) {\n",
       "            cvalue = c.substring(name.length, c.length);\n",
       "            cvalue = cvalue.replace(new RegExp(\"----\", \"gm\"), \"\\n\");\n",
       "            return cvalue;\n",
       "        }\n",
       "    }\n",
       "\n",
       "    return \"\";\n",
       "}\n",
       "\n",
       "function checkCookie() {\n",
       "    var cell_output = getCookie(\"2878ff8b-9059-4fad-b6bc-b11749338635\");\n",
       "    if (cell_output == \"\") {\n",
       "        requestCellOutput();  // Invoke the function\n",
       "    } else {\n",
       "       $('pre[class=\"2878ff8b-9059-4fad-b6bc-b11749338635-output\"]').text(cell_output);\n",
       "        $('pre[class=\"2878ff8b-9059-4fad-b6bc-b11749338635-waiting\"]').hide()\n",
       "        $('pre[class=\"2878ff8b-9059-4fad-b6bc-b11749338635-output\"]').show()\n",
       "    }\n",
       "}\n",
       "\n",
       "function requestCellOutput() {\n",
       "\n",
       "    var host = 'ws://localhost:5678/ws/JS---2878ff8b-9059-4fad-b6bc-b11749338635';\n",
       "\n",
       "    var ws = new WebSocket(host);\n",
       "\n",
       "    ws.onopen = function () {\n",
       "        var json_repr = JSON.stringify({ connection_id : \"JS---2878ff8b-9059-4fad-b6bc-b11749338635\"});\n",
       "        ws.send(json_repr);\n",
       "\n",
       "        $('pre[class=\"2878ff8b-9059-4fad-b6bc-b11749338635-waiting\"]').text(\"Running\");\n",
       "    };\n",
       "    ws.onmessage = function(evt){\n",
       "        var res = $.parseJSON(evt.data);\n",
       "        var session_id = \"2878ff8b-9059-4fad-b6bc-b11749338635\";\n",
       "        if (session_id == res.session_id) {\n",
       "            $('pre[class=\"2878ff8b-9059-4fad-b6bc-b11749338635-output\"]').html(IPython.utils.fixConsole(res.output));\n",
       "            $('pre[class=\"2878ff8b-9059-4fad-b6bc-b11749338635-waiting\"]').hide();\n",
       "            if (res.output.length > 0){\n",
       "                $('pre[class=\"2878ff8b-9059-4fad-b6bc-b11749338635-output\"]').show();\n",
       "                // Store output in cookie\n",
       "                setCookie('2878ff8b-9059-4fad-b6bc-b11749338635', res.output,  30);\n",
       "                ws.close();\n",
       "            } else {\n",
       "                ws.close();\n",
       "                $('pre[class=\"2878ff8b-9059-4fad-b6bc-b11749338635-output\"]').parentsUntil(\".output_wrapper\").last().remove();\n",
       "            }\n",
       "\n",
       "            //Save Current Notebook!\n",
       "            IPython.notebook.save_checkpoint();\n",
       "        }\n",
       "    };\n",
       "};\n",
       "\n",
       "\n",
       "$(document).ready(function(){\n",
       "    // Remove 'Running' on page reload\n",
       "    //$('pre[class=\"2878ff8b-9059-4fad-b6bc-b11749338635-waiting\"]').text(\"\");\n",
       "    checkCookie();\n",
       "});\n",
       "</script>\n",
       "\n"
      ],
      "text/plain": [
       "<IPython.core.display.HTML object>"
      ]
     },
     "execution_count": 6,
     "metadata": {},
     "output_type": "execute_result"
    }
   ],
   "source": [
    "%%async_run \n",
    "N = 10**s\n",
    "print(N)"
   ]
  },
  {
   "cell_type": "markdown",
   "metadata": {},
   "source": [
    "### The following cell has no output, just computation"
   ]
  },
  {
   "cell_type": "code",
   "execution_count": 7,
   "metadata": {
    "collapsed": false
   },
   "outputs": [
    {
     "data": {
      "text/html": [
       "\n",
       "<pre class=c3425cbf-9250-42b7-9c7e-94f95febad96-waiting></pre>\n",
       "<pre class=\"c3425cbf-9250-42b7-9c7e-94f95febad96-output\" style=\"display: none\"></pre>\n",
       "\n",
       "\n",
       "<script type=\"text/javascript\">\n",
       "\n",
       "function setCookie(cname, cvalue, exdays) {\n",
       "    cvalue = cvalue.replace(new RegExp(\"\\n\", \"gm\"), \"----\");\n",
       "    var d = new Date();\n",
       "    d.setTime(d.getTime() + (exdays*24*60*60*1000));\n",
       "    var expires = \"expires=\" + d.toGMTString();\n",
       "    document.cookie = cname+\"=\"+cvalue+\"; \"+expires;\n",
       "}\n",
       "\n",
       "function getCookie(cname) {\n",
       "    var name = cname + \"=\";\n",
       "    var ca = document.cookie.split(';');\n",
       "    for(var i = 0; i < ca.length; i++) {\n",
       "        var c = ca[i];\n",
       "        while (c.charAt(0)==' ') c = c.substring(1);\n",
       "        if (c.indexOf(name) == 0) {\n",
       "            cvalue = c.substring(name.length, c.length);\n",
       "            cvalue = cvalue.replace(new RegExp(\"----\", \"gm\"), \"\\n\");\n",
       "            return cvalue;\n",
       "        }\n",
       "    }\n",
       "\n",
       "    return \"\";\n",
       "}\n",
       "\n",
       "function checkCookie() {\n",
       "    var cell_output = getCookie(\"c3425cbf-9250-42b7-9c7e-94f95febad96\");\n",
       "    if (cell_output == \"\") {\n",
       "        requestCellOutput();  // Invoke the function\n",
       "    } else {\n",
       "       $('pre[class=\"c3425cbf-9250-42b7-9c7e-94f95febad96-output\"]').text(cell_output);\n",
       "        $('pre[class=\"c3425cbf-9250-42b7-9c7e-94f95febad96-waiting\"]').hide()\n",
       "        $('pre[class=\"c3425cbf-9250-42b7-9c7e-94f95febad96-output\"]').show()\n",
       "    }\n",
       "}\n",
       "\n",
       "function requestCellOutput() {\n",
       "\n",
       "    var host = 'ws://localhost:5678/ws/JS---c3425cbf-9250-42b7-9c7e-94f95febad96';\n",
       "\n",
       "    var ws = new WebSocket(host);\n",
       "\n",
       "    ws.onopen = function () {\n",
       "        var json_repr = JSON.stringify({ connection_id : \"JS---c3425cbf-9250-42b7-9c7e-94f95febad96\"});\n",
       "        ws.send(json_repr);\n",
       "\n",
       "        $('pre[class=\"c3425cbf-9250-42b7-9c7e-94f95febad96-waiting\"]').text(\"Running\");\n",
       "    };\n",
       "    ws.onmessage = function(evt){\n",
       "        var res = $.parseJSON(evt.data);\n",
       "        var session_id = \"c3425cbf-9250-42b7-9c7e-94f95febad96\";\n",
       "        if (session_id == res.session_id) {\n",
       "            $('pre[class=\"c3425cbf-9250-42b7-9c7e-94f95febad96-output\"]').html(IPython.utils.fixConsole(res.output));\n",
       "            $('pre[class=\"c3425cbf-9250-42b7-9c7e-94f95febad96-waiting\"]').hide();\n",
       "            if (res.output.length > 0){\n",
       "                $('pre[class=\"c3425cbf-9250-42b7-9c7e-94f95febad96-output\"]').show();\n",
       "                // Store output in cookie\n",
       "                setCookie('c3425cbf-9250-42b7-9c7e-94f95febad96', res.output,  30);\n",
       "                ws.close();\n",
       "            } else {\n",
       "                ws.close();\n",
       "                $('pre[class=\"c3425cbf-9250-42b7-9c7e-94f95febad96-output\"]').parentsUntil(\".output_wrapper\").last().remove();\n",
       "            }\n",
       "\n",
       "            //Save Current Notebook!\n",
       "            IPython.notebook.save_checkpoint();\n",
       "        }\n",
       "    };\n",
       "};\n",
       "\n",
       "\n",
       "$(document).ready(function(){\n",
       "    // Remove 'Running' on page reload\n",
       "    //$('pre[class=\"c3425cbf-9250-42b7-9c7e-94f95febad96-waiting\"]').text(\"\");\n",
       "    checkCookie();\n",
       "});\n",
       "</script>\n",
       "\n"
      ],
      "text/plain": [
       "<IPython.core.display.HTML object>"
      ]
     },
     "execution_count": 7,
     "metadata": {},
     "output_type": "execute_result"
    }
   ],
   "source": [
    "%%async_run\n",
    "s += 1\n",
    "l += 1"
   ]
  },
  {
   "cell_type": "code",
   "execution_count": 8,
   "metadata": {
    "collapsed": false
   },
   "outputs": [
    {
     "data": {
      "text/plain": [
       "(6, 1)"
      ]
     },
     "execution_count": 8,
     "metadata": {},
     "output_type": "execute_result"
    }
   ],
   "source": [
    "s, l"
   ]
  },
  {
   "cell_type": "code",
   "execution_count": 9,
   "metadata": {
    "collapsed": false
   },
   "outputs": [],
   "source": [
    "l += 1"
   ]
  },
  {
   "cell_type": "code",
   "execution_count": 10,
   "metadata": {
    "collapsed": false
   },
   "outputs": [
    {
     "data": {
      "text/plain": [
       "2"
      ]
     },
     "execution_count": 10,
     "metadata": {},
     "output_type": "execute_result"
    }
   ],
   "source": [
    "l"
   ]
  },
  {
   "cell_type": "markdown",
   "metadata": {},
   "source": [
    "## 1. Output History is correctly updated"
   ]
  },
  {
   "cell_type": "code",
   "execution_count": 11,
   "metadata": {
    "collapsed": false
   },
   "outputs": [
    {
     "data": {
      "text/plain": [
       "{2: 10, 4: 5, 6: '100000\\n', 8: (6, 1), 10: 2}"
      ]
     },
     "execution_count": 11,
     "metadata": {},
     "output_type": "execute_result"
    }
   ],
   "source": [
    "_oh"
   ]
  },
  {
   "cell_type": "markdown",
   "metadata": {},
   "source": [
    "## 2. Exception Output Handling\n",
    "\n",
    "In this particular example, the `L` variable has been never defined, thus leading to a `NameError` exception"
   ]
  },
  {
   "cell_type": "code",
   "execution_count": 12,
   "metadata": {
    "collapsed": false
   },
   "outputs": [
    {
     "data": {
      "text/html": [
       "\n",
       "<pre class=19ee78a5-cedb-4cee-a544-90b1adc90cb4-waiting></pre>\n",
       "<pre class=\"19ee78a5-cedb-4cee-a544-90b1adc90cb4-output\" style=\"display: none\"></pre>\n",
       "\n",
       "\n",
       "<script type=\"text/javascript\">\n",
       "\n",
       "function setCookie(cname, cvalue, exdays) {\n",
       "    cvalue = cvalue.replace(new RegExp(\"\\n\", \"gm\"), \"----\");\n",
       "    var d = new Date();\n",
       "    d.setTime(d.getTime() + (exdays*24*60*60*1000));\n",
       "    var expires = \"expires=\" + d.toGMTString();\n",
       "    document.cookie = cname+\"=\"+cvalue+\"; \"+expires;\n",
       "}\n",
       "\n",
       "function getCookie(cname) {\n",
       "    var name = cname + \"=\";\n",
       "    var ca = document.cookie.split(';');\n",
       "    for(var i = 0; i < ca.length; i++) {\n",
       "        var c = ca[i];\n",
       "        while (c.charAt(0)==' ') c = c.substring(1);\n",
       "        if (c.indexOf(name) == 0) {\n",
       "            cvalue = c.substring(name.length, c.length);\n",
       "            cvalue = cvalue.replace(new RegExp(\"----\", \"gm\"), \"\\n\");\n",
       "            return cvalue;\n",
       "        }\n",
       "    }\n",
       "\n",
       "    return \"\";\n",
       "}\n",
       "\n",
       "function checkCookie() {\n",
       "    var cell_output = getCookie(\"19ee78a5-cedb-4cee-a544-90b1adc90cb4\");\n",
       "    if (cell_output == \"\") {\n",
       "        requestCellOutput();  // Invoke the function\n",
       "    } else {\n",
       "       $('pre[class=\"19ee78a5-cedb-4cee-a544-90b1adc90cb4-output\"]').text(cell_output);\n",
       "        $('pre[class=\"19ee78a5-cedb-4cee-a544-90b1adc90cb4-waiting\"]').hide()\n",
       "        $('pre[class=\"19ee78a5-cedb-4cee-a544-90b1adc90cb4-output\"]').show()\n",
       "    }\n",
       "}\n",
       "\n",
       "function requestCellOutput() {\n",
       "\n",
       "    var host = 'ws://localhost:5678/ws/JS---19ee78a5-cedb-4cee-a544-90b1adc90cb4';\n",
       "\n",
       "    var ws = new WebSocket(host);\n",
       "\n",
       "    ws.onopen = function () {\n",
       "        var json_repr = JSON.stringify({ connection_id : \"JS---19ee78a5-cedb-4cee-a544-90b1adc90cb4\"});\n",
       "        ws.send(json_repr);\n",
       "\n",
       "        $('pre[class=\"19ee78a5-cedb-4cee-a544-90b1adc90cb4-waiting\"]').text(\"Running\");\n",
       "    };\n",
       "    ws.onmessage = function(evt){\n",
       "        var res = $.parseJSON(evt.data);\n",
       "        var session_id = \"19ee78a5-cedb-4cee-a544-90b1adc90cb4\";\n",
       "        if (session_id == res.session_id) {\n",
       "            $('pre[class=\"19ee78a5-cedb-4cee-a544-90b1adc90cb4-output\"]').html(IPython.utils.fixConsole(res.output));\n",
       "            $('pre[class=\"19ee78a5-cedb-4cee-a544-90b1adc90cb4-waiting\"]').hide();\n",
       "            if (res.output.length > 0){\n",
       "                $('pre[class=\"19ee78a5-cedb-4cee-a544-90b1adc90cb4-output\"]').show();\n",
       "                // Store output in cookie\n",
       "                setCookie('19ee78a5-cedb-4cee-a544-90b1adc90cb4', res.output,  30);\n",
       "                ws.close();\n",
       "            } else {\n",
       "                ws.close();\n",
       "                $('pre[class=\"19ee78a5-cedb-4cee-a544-90b1adc90cb4-output\"]').parentsUntil(\".output_wrapper\").last().remove();\n",
       "            }\n",
       "\n",
       "            //Save Current Notebook!\n",
       "            IPython.notebook.save_checkpoint();\n",
       "        }\n",
       "    };\n",
       "};\n",
       "\n",
       "\n",
       "$(document).ready(function(){\n",
       "    // Remove 'Running' on page reload\n",
       "    //$('pre[class=\"19ee78a5-cedb-4cee-a544-90b1adc90cb4-waiting\"]').text(\"\");\n",
       "    checkCookie();\n",
       "});\n",
       "</script>\n",
       "\n"
      ],
      "text/plain": [
       "<IPython.core.display.HTML object>"
      ]
     },
     "execution_count": 12,
     "metadata": {},
     "output_type": "execute_result"
    }
   ],
   "source": [
    "%async_run L += 1"
   ]
  },
  {
   "cell_type": "markdown",
   "metadata": {},
   "source": [
    "## 3. Let's do an heavy computation example"
   ]
  },
  {
   "cell_type": "code",
   "execution_count": 13,
   "metadata": {
    "collapsed": false,
    "scrolled": false
   },
   "outputs": [
    {
     "data": {
      "text/html": [
       "\n",
       "<pre class=bfa01d3c-1189-427b-bf92-4e19e0617eed-waiting></pre>\n",
       "<pre class=\"bfa01d3c-1189-427b-bf92-4e19e0617eed-output\" style=\"display: none\"></pre>\n",
       "\n",
       "\n",
       "<script type=\"text/javascript\">\n",
       "\n",
       "function setCookie(cname, cvalue, exdays) {\n",
       "    cvalue = cvalue.replace(new RegExp(\"\\n\", \"gm\"), \"----\");\n",
       "    var d = new Date();\n",
       "    d.setTime(d.getTime() + (exdays*24*60*60*1000));\n",
       "    var expires = \"expires=\" + d.toGMTString();\n",
       "    document.cookie = cname+\"=\"+cvalue+\"; \"+expires;\n",
       "}\n",
       "\n",
       "function getCookie(cname) {\n",
       "    var name = cname + \"=\";\n",
       "    var ca = document.cookie.split(';');\n",
       "    for(var i = 0; i < ca.length; i++) {\n",
       "        var c = ca[i];\n",
       "        while (c.charAt(0)==' ') c = c.substring(1);\n",
       "        if (c.indexOf(name) == 0) {\n",
       "            cvalue = c.substring(name.length, c.length);\n",
       "            cvalue = cvalue.replace(new RegExp(\"----\", \"gm\"), \"\\n\");\n",
       "            return cvalue;\n",
       "        }\n",
       "    }\n",
       "\n",
       "    return \"\";\n",
       "}\n",
       "\n",
       "function checkCookie() {\n",
       "    var cell_output = getCookie(\"bfa01d3c-1189-427b-bf92-4e19e0617eed\");\n",
       "    if (cell_output == \"\") {\n",
       "        requestCellOutput();  // Invoke the function\n",
       "    } else {\n",
       "       $('pre[class=\"bfa01d3c-1189-427b-bf92-4e19e0617eed-output\"]').text(cell_output);\n",
       "        $('pre[class=\"bfa01d3c-1189-427b-bf92-4e19e0617eed-waiting\"]').hide()\n",
       "        $('pre[class=\"bfa01d3c-1189-427b-bf92-4e19e0617eed-output\"]').show()\n",
       "    }\n",
       "}\n",
       "\n",
       "function requestCellOutput() {\n",
       "\n",
       "    var host = 'ws://localhost:5678/ws/JS---bfa01d3c-1189-427b-bf92-4e19e0617eed';\n",
       "\n",
       "    var ws = new WebSocket(host);\n",
       "\n",
       "    ws.onopen = function () {\n",
       "        var json_repr = JSON.stringify({ connection_id : \"JS---bfa01d3c-1189-427b-bf92-4e19e0617eed\"});\n",
       "        ws.send(json_repr);\n",
       "\n",
       "        $('pre[class=\"bfa01d3c-1189-427b-bf92-4e19e0617eed-waiting\"]').text(\"Running\");\n",
       "    };\n",
       "    ws.onmessage = function(evt){\n",
       "        var res = $.parseJSON(evt.data);\n",
       "        var session_id = \"bfa01d3c-1189-427b-bf92-4e19e0617eed\";\n",
       "        if (session_id == res.session_id) {\n",
       "            $('pre[class=\"bfa01d3c-1189-427b-bf92-4e19e0617eed-output\"]').html(IPython.utils.fixConsole(res.output));\n",
       "            $('pre[class=\"bfa01d3c-1189-427b-bf92-4e19e0617eed-waiting\"]').hide();\n",
       "            if (res.output.length > 0){\n",
       "                $('pre[class=\"bfa01d3c-1189-427b-bf92-4e19e0617eed-output\"]').show();\n",
       "                // Store output in cookie\n",
       "                setCookie('bfa01d3c-1189-427b-bf92-4e19e0617eed', res.output,  30);\n",
       "                ws.close();\n",
       "            } else {\n",
       "                ws.close();\n",
       "                $('pre[class=\"bfa01d3c-1189-427b-bf92-4e19e0617eed-output\"]').parentsUntil(\".output_wrapper\").last().remove();\n",
       "            }\n",
       "\n",
       "            //Save Current Notebook!\n",
       "            IPython.notebook.save_checkpoint();\n",
       "        }\n",
       "    };\n",
       "};\n",
       "\n",
       "\n",
       "$(document).ready(function(){\n",
       "    // Remove 'Running' on page reload\n",
       "    //$('pre[class=\"bfa01d3c-1189-427b-bf92-4e19e0617eed-waiting\"]').text(\"\");\n",
       "    checkCookie();\n",
       "});\n",
       "</script>\n",
       "\n"
      ],
      "text/plain": [
       "<IPython.core.display.HTML object>"
      ]
     },
     "execution_count": 13,
     "metadata": {},
     "output_type": "execute_result"
    }
   ],
   "source": [
    "%%async_run \n",
    "N = 10**7\n",
    "s = sum([i**2 for i in range(N)])\n",
    "print(s)"
   ]
  },
  {
   "cell_type": "code",
   "execution_count": 14,
   "metadata": {
    "collapsed": false
   },
   "outputs": [
    {
     "data": {
      "text/plain": [
       "333333283333335000000"
      ]
     },
     "execution_count": 14,
     "metadata": {},
     "output_type": "execute_result"
    }
   ],
   "source": [
    "s"
   ]
  },
  {
   "cell_type": "markdown",
   "metadata": {},
   "source": [
    "## 4. Module Import in `async_run` cells"
   ]
  },
  {
   "cell_type": "code",
   "execution_count": 16,
   "metadata": {
    "collapsed": true
   },
   "outputs": [],
   "source": [
    "from sklearn.datasets import load_iris\n",
    "\n",
    "iris = load_iris()\n",
    "X = iris.data"
   ]
  },
  {
   "cell_type": "code",
   "execution_count": 18,
   "metadata": {
    "collapsed": false
   },
   "outputs": [
    {
     "data": {
      "text/html": [
       "\n",
       "<pre class=8e5725e0-fe58-4402-b9e3-8b5726b84697-waiting></pre>\n",
       "<pre class=\"8e5725e0-fe58-4402-b9e3-8b5726b84697-output\" style=\"display: none\"></pre>\n",
       "\n",
       "\n",
       "<script type=\"text/javascript\">\n",
       "\n",
       "function setCookie(cname, cvalue, exdays) {\n",
       "    cvalue = cvalue.replace(new RegExp(\"\\n\", \"gm\"), \"----\");\n",
       "    var d = new Date();\n",
       "    d.setTime(d.getTime() + (exdays*24*60*60*1000));\n",
       "    var expires = \"expires=\" + d.toGMTString();\n",
       "    document.cookie = cname+\"=\"+cvalue+\"; \"+expires;\n",
       "}\n",
       "\n",
       "function getCookie(cname) {\n",
       "    var name = cname + \"=\";\n",
       "    var ca = document.cookie.split(';');\n",
       "    for(var i = 0; i < ca.length; i++) {\n",
       "        var c = ca[i];\n",
       "        while (c.charAt(0)==' ') c = c.substring(1);\n",
       "        if (c.indexOf(name) == 0) {\n",
       "            cvalue = c.substring(name.length, c.length);\n",
       "            cvalue = cvalue.replace(new RegExp(\"----\", \"gm\"), \"\\n\");\n",
       "            return cvalue;\n",
       "        }\n",
       "    }\n",
       "\n",
       "    return \"\";\n",
       "}\n",
       "\n",
       "function checkCookie() {\n",
       "    var cell_output = getCookie(\"8e5725e0-fe58-4402-b9e3-8b5726b84697\");\n",
       "    if (cell_output == \"\") {\n",
       "        requestCellOutput();  // Invoke the function\n",
       "    } else {\n",
       "       $('pre[class=\"8e5725e0-fe58-4402-b9e3-8b5726b84697-output\"]').text(cell_output);\n",
       "        $('pre[class=\"8e5725e0-fe58-4402-b9e3-8b5726b84697-waiting\"]').hide()\n",
       "        $('pre[class=\"8e5725e0-fe58-4402-b9e3-8b5726b84697-output\"]').show()\n",
       "    }\n",
       "}\n",
       "\n",
       "function requestCellOutput() {\n",
       "\n",
       "    var host = 'ws://localhost:5678/ws/JS---8e5725e0-fe58-4402-b9e3-8b5726b84697';\n",
       "\n",
       "    var ws = new WebSocket(host);\n",
       "\n",
       "    ws.onopen = function () {\n",
       "        var json_repr = JSON.stringify({ connection_id : \"JS---8e5725e0-fe58-4402-b9e3-8b5726b84697\"});\n",
       "        ws.send(json_repr);\n",
       "\n",
       "        $('pre[class=\"8e5725e0-fe58-4402-b9e3-8b5726b84697-waiting\"]').text(\"Running\");\n",
       "    };\n",
       "    ws.onmessage = function(evt){\n",
       "        var res = $.parseJSON(evt.data);\n",
       "        var session_id = \"8e5725e0-fe58-4402-b9e3-8b5726b84697\";\n",
       "        if (session_id == res.session_id) {\n",
       "            $('pre[class=\"8e5725e0-fe58-4402-b9e3-8b5726b84697-output\"]').html(IPython.utils.fixConsole(res.output));\n",
       "            $('pre[class=\"8e5725e0-fe58-4402-b9e3-8b5726b84697-waiting\"]').hide();\n",
       "            if (res.output.length > 0){\n",
       "                $('pre[class=\"8e5725e0-fe58-4402-b9e3-8b5726b84697-output\"]').show();\n",
       "                // Store output in cookie\n",
       "                setCookie('8e5725e0-fe58-4402-b9e3-8b5726b84697', res.output,  30);\n",
       "                ws.close();\n",
       "            } else {\n",
       "                ws.close();\n",
       "                $('pre[class=\"8e5725e0-fe58-4402-b9e3-8b5726b84697-output\"]').parentsUntil(\".output_wrapper\").last().remove();\n",
       "            }\n",
       "\n",
       "            //Save Current Notebook!\n",
       "            IPython.notebook.save_checkpoint();\n",
       "        }\n",
       "    };\n",
       "};\n",
       "\n",
       "\n",
       "$(document).ready(function(){\n",
       "    // Remove 'Running' on page reload\n",
       "    //$('pre[class=\"8e5725e0-fe58-4402-b9e3-8b5726b84697-waiting\"]').text(\"\");\n",
       "    checkCookie();\n",
       "});\n",
       "</script>\n",
       "\n"
      ],
      "text/plain": [
       "<IPython.core.display.HTML object>"
      ]
     },
     "execution_count": 18,
     "metadata": {},
     "output_type": "execute_result"
    }
   ],
   "source": [
    "%%async_run\n",
    "import numpy as np\n",
    "s = np.sum(X)\n",
    "print(s)"
   ]
  },
  {
   "cell_type": "markdown",
   "metadata": {},
   "source": [
    "#### Now the `numpy` module is available in the notebook namespace to be used"
   ]
  },
  {
   "cell_type": "code",
   "execution_count": 19,
   "metadata": {
    "collapsed": false
   },
   "outputs": [],
   "source": [
    "a = np.array(range(10))"
   ]
  },
  {
   "cell_type": "code",
   "execution_count": 20,
   "metadata": {
    "collapsed": false
   },
   "outputs": [
    {
     "data": {
      "text/plain": [
       "array([0, 1, 2, 3, 4, 5, 6, 7, 8, 9])"
      ]
     },
     "execution_count": 20,
     "metadata": {},
     "output_type": "execute_result"
    }
   ],
   "source": [
    "a"
   ]
  },
  {
   "cell_type": "code",
   "execution_count": 21,
   "metadata": {
    "collapsed": false
   },
   "outputs": [
    {
     "data": {
      "text/html": [
       "\n",
       "<pre class=416d133e-e3e9-416a-8eb5-7a8261be7914-waiting></pre>\n",
       "<pre class=\"416d133e-e3e9-416a-8eb5-7a8261be7914-output\" style=\"display: none\"></pre>\n",
       "\n",
       "\n",
       "<script type=\"text/javascript\">\n",
       "\n",
       "function setCookie(cname, cvalue, exdays) {\n",
       "    cvalue = cvalue.replace(new RegExp(\"\\n\", \"gm\"), \"----\");\n",
       "    var d = new Date();\n",
       "    d.setTime(d.getTime() + (exdays*24*60*60*1000));\n",
       "    var expires = \"expires=\" + d.toGMTString();\n",
       "    document.cookie = cname+\"=\"+cvalue+\"; \"+expires;\n",
       "}\n",
       "\n",
       "function getCookie(cname) {\n",
       "    var name = cname + \"=\";\n",
       "    var ca = document.cookie.split(';');\n",
       "    for(var i = 0; i < ca.length; i++) {\n",
       "        var c = ca[i];\n",
       "        while (c.charAt(0)==' ') c = c.substring(1);\n",
       "        if (c.indexOf(name) == 0) {\n",
       "            cvalue = c.substring(name.length, c.length);\n",
       "            cvalue = cvalue.replace(new RegExp(\"----\", \"gm\"), \"\\n\");\n",
       "            return cvalue;\n",
       "        }\n",
       "    }\n",
       "\n",
       "    return \"\";\n",
       "}\n",
       "\n",
       "function checkCookie() {\n",
       "    var cell_output = getCookie(\"416d133e-e3e9-416a-8eb5-7a8261be7914\");\n",
       "    if (cell_output == \"\") {\n",
       "        requestCellOutput();  // Invoke the function\n",
       "    } else {\n",
       "       $('pre[class=\"416d133e-e3e9-416a-8eb5-7a8261be7914-output\"]').text(cell_output);\n",
       "        $('pre[class=\"416d133e-e3e9-416a-8eb5-7a8261be7914-waiting\"]').hide()\n",
       "        $('pre[class=\"416d133e-e3e9-416a-8eb5-7a8261be7914-output\"]').show()\n",
       "    }\n",
       "}\n",
       "\n",
       "function requestCellOutput() {\n",
       "\n",
       "    var host = 'ws://localhost:5678/ws/JS---416d133e-e3e9-416a-8eb5-7a8261be7914';\n",
       "\n",
       "    var ws = new WebSocket(host);\n",
       "\n",
       "    ws.onopen = function () {\n",
       "        var json_repr = JSON.stringify({ connection_id : \"JS---416d133e-e3e9-416a-8eb5-7a8261be7914\"});\n",
       "        ws.send(json_repr);\n",
       "\n",
       "        $('pre[class=\"416d133e-e3e9-416a-8eb5-7a8261be7914-waiting\"]').text(\"Running\");\n",
       "    };\n",
       "    ws.onmessage = function(evt){\n",
       "        var res = $.parseJSON(evt.data);\n",
       "        var session_id = \"416d133e-e3e9-416a-8eb5-7a8261be7914\";\n",
       "        if (session_id == res.session_id) {\n",
       "            $('pre[class=\"416d133e-e3e9-416a-8eb5-7a8261be7914-output\"]').html(IPython.utils.fixConsole(res.output));\n",
       "            $('pre[class=\"416d133e-e3e9-416a-8eb5-7a8261be7914-waiting\"]').hide();\n",
       "            if (res.output.length > 0){\n",
       "                $('pre[class=\"416d133e-e3e9-416a-8eb5-7a8261be7914-output\"]').show();\n",
       "                // Store output in cookie\n",
       "                setCookie('416d133e-e3e9-416a-8eb5-7a8261be7914', res.output,  30);\n",
       "                ws.close();\n",
       "            } else {\n",
       "                ws.close();\n",
       "                $('pre[class=\"416d133e-e3e9-416a-8eb5-7a8261be7914-output\"]').parentsUntil(\".output_wrapper\").last().remove();\n",
       "            }\n",
       "\n",
       "            //Save Current Notebook!\n",
       "            IPython.notebook.save_checkpoint();\n",
       "        }\n",
       "    };\n",
       "};\n",
       "\n",
       "\n",
       "$(document).ready(function(){\n",
       "    // Remove 'Running' on page reload\n",
       "    //$('pre[class=\"416d133e-e3e9-416a-8eb5-7a8261be7914-waiting\"]').text(\"\");\n",
       "    checkCookie();\n",
       "});\n",
       "</script>\n",
       "\n"
      ],
      "text/plain": [
       "<IPython.core.display.HTML object>"
      ]
     },
     "execution_count": 21,
     "metadata": {},
     "output_type": "execute_result"
    }
   ],
   "source": [
    "%%async_run\n",
    "s = np.sum(a)"
   ]
  },
  {
   "cell_type": "code",
   "execution_count": 22,
   "metadata": {
    "collapsed": false,
    "scrolled": false
   },
   "outputs": [
    {
     "data": {
      "text/plain": [
       "45"
      ]
     },
     "execution_count": 22,
     "metadata": {},
     "output_type": "execute_result"
    }
   ],
   "source": [
    "s"
   ]
  },
  {
   "cell_type": "code",
   "execution_count": 23,
   "metadata": {
    "collapsed": false
   },
   "outputs": [
    {
     "data": {
      "text/plain": [
       "45"
      ]
     },
     "execution_count": 23,
     "metadata": {},
     "output_type": "execute_result"
    }
   ],
   "source": [
    "np.sum(range(10))"
   ]
  },
  {
   "cell_type": "code",
   "execution_count": 1,
   "metadata": {
    "collapsed": false
   },
   "outputs": [
    {
     "name": "stdout",
     "output_type": "stream",
     "text": [
      "No Server is Running\n"
     ]
    }
   ],
   "source": [
    "%async_stop_server"
   ]
  },
  {
   "cell_type": "code",
   "execution_count": null,
   "metadata": {
    "collapsed": true
   },
   "outputs": [],
   "source": []
  }
 ],
 "metadata": {
  "kernelspec": {
   "display_name": "Python 3",
   "language": "python",
   "name": "python3"
  },
  "language_info": {
   "codemirror_mode": {
    "name": "ipython",
    "version": 3
   },
   "file_extension": ".py",
   "mimetype": "text/x-python",
   "name": "python",
   "nbconvert_exporter": "python",
   "pygments_lexer": "ipython3",
   "version": "3.5.2"
  }
 },
 "nbformat": 4,
 "nbformat_minor": 0
}
